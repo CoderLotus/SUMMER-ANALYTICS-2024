{
  "cells": [
    {
      "cell_type": "code",
      "source": [
        "# 1. Imports\n",
        "import pandas as pd\n",
        "import numpy as np\n",
        "from sklearn.ensemble import RandomForestClassifier\n",
        "from sklearn.preprocessing import LabelEncoder, StandardScaler\n",
        "from sklearn.model_selection import StratifiedKFold, cross_val_score\n",
        "from sklearn.decomposition import PCA\n",
        "\n",
        "# 2. Load data\n",
        "train_df = pd.read_csv(\"hacktrain.csv\")\n",
        "test_df = pd.read_csv(\"hacktest.csv\")\n",
        "\n",
        "# 3. NDVI columns\n",
        "ndvi_columns = [col for col in train_df.columns if col.endswith('_N')]\n",
        "\n",
        "# 4. Combine data\n",
        "train_df['is_train'] = 1\n",
        "test_df['is_train'] = 0\n",
        "test_df['class'] = np.nan\n",
        "full_df = pd.concat([train_df, test_df], ignore_index=True)\n",
        "\n",
        "# 5. Ensure NDVI columns are numeric\n",
        "for col in ndvi_columns:\n",
        "    full_df[col] = pd.to_numeric(full_df[col], errors='coerce')\n",
        "\n",
        "# 6. Interpolation for missing values\n",
        "full_df[ndvi_columns] = full_df[ndvi_columns].interpolate(axis=1, limit_direction='both')\n",
        "\n",
        "# 7. Rolling mean smoothing\n",
        "full_df[ndvi_columns] = full_df[ndvi_columns].rolling(window=3, axis=1, min_periods=1).mean()\n",
        "\n",
        "# 8. NDVI Feature Engineering\n",
        "def extract_ndvi_features(row):\n",
        "    values = pd.to_numeric(row[ndvi_columns], errors='coerce').values\n",
        "    return pd.Series({\n",
        "        'ndvi_mean': np.mean(values),\n",
        "        'ndvi_std': np.std(values),\n",
        "        'ndvi_min': np.min(values),\n",
        "        'ndvi_max': np.max(values),\n",
        "        'ndvi_range': np.max(values) - np.min(values),\n",
        "        'ndvi_q25': np.percentile(values, 25),\n",
        "        'ndvi_q75': np.percentile(values, 75),\n",
        "        'ndvi_median': np.median(values),\n",
        "        'ndvi_trend': values[-1] - values[0] if not np.isnan(values[0]) and not np.isnan(values[-1]) else 0,\n",
        "        'ndvi_skew': pd.Series(values).skew(),\n",
        "        'ndvi_kurtosis': pd.Series(values).kurt(),\n",
        "        'ndvi_slope': np.polyfit(np.arange(len(values))[~np.isnan(values)], values[~np.isnan(values)], 1)[0]\n",
        "                     if np.sum(~np.isnan(values)) > 1 else 0\n",
        "    })\n",
        "\n",
        "ndvi_features = full_df.apply(extract_ndvi_features, axis=1)\n",
        "full_df = pd.concat([full_df[['ID', 'class', 'is_train']], ndvi_features], axis=1)\n",
        "\n",
        "# 9. Split into train and test\n",
        "train_processed = full_df[full_df['is_train'] == 1].copy()\n",
        "test_processed = full_df[full_df['is_train'] == 0].copy()\n",
        "\n",
        "# 10. Encode target\n",
        "label_encoder = LabelEncoder()\n",
        "train_processed['class'] = label_encoder.fit_transform(train_processed['class'])\n",
        "\n",
        "X = train_processed.drop(columns=['ID', 'class', 'is_train'])\n",
        "y = train_processed['class']\n",
        "X_test = test_processed.drop(columns=['ID', 'class', 'is_train'])\n",
        "\n",
        "# 11. Handle missing values\n",
        "X = X.fillna(X.mean())\n",
        "X_test = X_test.fillna(X_test.mean())\n",
        "\n",
        "# 12. Standard Scaling\n",
        "scaler = StandardScaler()\n",
        "X_scaled = scaler.fit_transform(X)\n",
        "X_test_scaled = scaler.transform(X_test)\n",
        "\n",
        "# 13. PCA for dimensionality reduction\n",
        "pca = PCA(n_components=0.99, random_state=42)\n",
        "X_pca = pca.fit_transform(X_scaled)\n",
        "X_test_pca = pca.transform(X_test_scaled)\n",
        "\n",
        "# 14. Model: Random Forest\n",
        "model = RandomForestClassifier(n_estimators=200, max_depth=25, random_state=42)\n",
        "\n",
        "# 15. Cross-validation\n",
        "cv = StratifiedKFold(n_splits=5, shuffle=True, random_state=42)\n",
        "scores = cross_val_score(model, X_pca, y, cv=cv, scoring='accuracy')\n",
        "print(f\"CV Accuracy: {np.mean(scores):.2f} ± {np.std(scores):.4f}\")\n",
        "\n",
        "# 16. Train on full training data\n",
        "model.fit(X_pca, y)\n",
        "y_pred = model.predict(X_test_pca)\n",
        "y_pred_labels = label_encoder.inverse_transform(y_pred)\n",
        "\n",
        "# 17. Submission file\n",
        "submission_df = pd.DataFrame({\n",
        "    'ID': test_processed['ID'].astype(int),\n",
        "    'class': y_pred_labels\n",
        "})\n",
        "submission_df.to_csv(\"submission_boosted.csv\", index=False)\n",
        "print(\"Submission saved as submission_boosted.csv\")\n"
      ],
      "metadata": {
        "colab": {
          "base_uri": "https://localhost:8080/"
        },
        "id": "P7_QublKWAFd",
        "outputId": "3453cf30-844e-43ed-a6cc-c5d879aa9ee3"
      },
      "id": "P7_QublKWAFd",
      "execution_count": 4,
      "outputs": [
        {
          "output_type": "stream",
          "name": "stderr",
          "text": [
            "<ipython-input-4-3902605702>:30: FutureWarning: Support for axis=1 in DataFrame.rolling is deprecated and will be removed in a future version. Use obj.T.rolling(...) instead\n",
            "  full_df[ndvi_columns] = full_df[ndvi_columns].rolling(window=3, axis=1, min_periods=1).mean()\n"
          ]
        },
        {
          "output_type": "stream",
          "name": "stdout",
          "text": [
            "CV Accuracy: 0.86 ± 0.0038\n",
            "Submission saved as submission_boosted.csv\n"
          ]
        }
      ]
    },
    {
      "cell_type": "code",
      "source": [],
      "metadata": {
        "id": "bl8WgWWoYEuG"
      },
      "id": "bl8WgWWoYEuG",
      "execution_count": 4,
      "outputs": []
    }
  ],
  "metadata": {
    "kernelspec": {
      "display_name": "Python [conda env:base] *",
      "language": "python",
      "name": "conda-base-py"
    },
    "language_info": {
      "codemirror_mode": {
        "name": "ipython",
        "version": 3
      },
      "file_extension": ".py",
      "mimetype": "text/x-python",
      "name": "python",
      "nbconvert_exporter": "python",
      "pygments_lexer": "ipython3",
      "version": "3.12.7"
    },
    "colab": {
      "provenance": []
    }
  },
  "nbformat": 4,
  "nbformat_minor": 5
}