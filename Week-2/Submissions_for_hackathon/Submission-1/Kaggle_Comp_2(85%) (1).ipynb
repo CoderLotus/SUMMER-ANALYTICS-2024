{
 "cells": [
  {
   "cell_type": "code",
   "execution_count": 1,
   "id": "1c55d81f-cf89-45c8-b2b5-b6a6a64db309",
   "metadata": {},
   "outputs": [],
   "source": [
    "# 1. Imports\n",
    "import pandas as pd\n",
    "import numpy as np\n",
    "from sklearn.linear_model import LogisticRegression\n",
    "from sklearn.preprocessing import LabelEncoder, StandardScaler, PolynomialFeatures\n",
    "from sklearn.model_selection import StratifiedKFold, cross_val_score\n",
    "\n",
    "# 2. Load data\n",
    "train_df = pd.read_csv('hacktrain.csv')\n",
    "test_df = pd.read_csv('hacktest.csv')"
   ]
  },
  {
   "cell_type": "code",
   "execution_count": 2,
   "id": "8da3e25b-c109-4d52-9206-e4ab36532aea",
   "metadata": {},
   "outputs": [
    {
     "name": "stderr",
     "output_type": "stream",
     "text": [
      "/var/folders/jx/8qg3vz3x7px27vgp5hhp4vyr0000gn/T/ipykernel_25198/3477758640.py:14: FutureWarning: Support for axis=1 in DataFrame.rolling is deprecated and will be removed in a future version. Use obj.T.rolling(...) instead\n",
      "  full_df[ndvi_columns] = full_df[ndvi_columns].rolling(window=3, axis=1, min_periods=1).mean()\n"
     ]
    }
   ],
   "source": [
    "# 3. NDVI columns\n",
    "ndvi_columns = [col for col in train_df.columns if col.endswith('_N')]\n",
    "\n",
    "# 4. Combine for preprocessing\n",
    "train_df['is_train'] = 1\n",
    "test_df['is_train'] = 0\n",
    "test_df['class'] = np.nan\n",
    "full_df = pd.concat([train_df, test_df], ignore_index=True)\n",
    "\n",
    "# 5. Interpolate missing NDVI values row-wise\n",
    "full_df[ndvi_columns] = full_df[ndvi_columns].interpolate(axis=1, limit_direction='both')\n",
    "\n",
    "# 6. Apply rolling mean smoothing\n",
    "full_df[ndvi_columns] = full_df[ndvi_columns].rolling(window=3, axis=1, min_periods=1).mean()"
   ]
  },
  {
   "cell_type": "code",
   "execution_count": 3,
   "id": "5a858bb0-e31e-4d1b-9715-2eeffe5fa7aa",
   "metadata": {},
   "outputs": [],
   "source": [
    "# 7. Feature Engineering\n",
    "def extract_ndvi_features(row):\n",
    "    values = row[ndvi_columns].values\n",
    "    return pd.Series({\n",
    "        'ndvi_mean': np.mean(values),\n",
    "        'ndvi_std': np.std(values),\n",
    "        'ndvi_min': np.min(values),\n",
    "        'ndvi_max': np.max(values),\n",
    "        'ndvi_range': np.max(values) - np.min(values),\n",
    "        'ndvi_q25': np.percentile(values, 25),\n",
    "        'ndvi_q75': np.percentile(values, 75),\n",
    "        'ndvi_median': np.median(values),\n",
    "        'ndvi_trend': values[-1] - values[0]\n",
    "    })\n",
    "\n",
    "ndvi_features = full_df.apply(extract_ndvi_features, axis=1)\n",
    "full_df = pd.concat([full_df[['ID', 'class', 'is_train']], ndvi_features], axis=1)"
   ]
  },
  {
   "cell_type": "code",
   "execution_count": 4,
   "id": "412f85ab-3d11-4a9b-9007-d301096c1489",
   "metadata": {},
   "outputs": [
    {
     "name": "stderr",
     "output_type": "stream",
     "text": [
      "/opt/anaconda3/lib/python3.12/site-packages/sklearn/linear_model/_logistic.py:1247: FutureWarning: 'multi_class' was deprecated in version 1.5 and will be removed in 1.7. From then on, it will always use 'multinomial'. Leave it to its default value to avoid this warning.\n",
      "  warnings.warn(\n",
      "/opt/anaconda3/lib/python3.12/site-packages/sklearn/linear_model/_logistic.py:1247: FutureWarning: 'multi_class' was deprecated in version 1.5 and will be removed in 1.7. From then on, it will always use 'multinomial'. Leave it to its default value to avoid this warning.\n",
      "  warnings.warn(\n",
      "/opt/anaconda3/lib/python3.12/site-packages/sklearn/linear_model/_logistic.py:1247: FutureWarning: 'multi_class' was deprecated in version 1.5 and will be removed in 1.7. From then on, it will always use 'multinomial'. Leave it to its default value to avoid this warning.\n",
      "  warnings.warn(\n",
      "/opt/anaconda3/lib/python3.12/site-packages/sklearn/linear_model/_logistic.py:1247: FutureWarning: 'multi_class' was deprecated in version 1.5 and will be removed in 1.7. From then on, it will always use 'multinomial'. Leave it to its default value to avoid this warning.\n",
      "  warnings.warn(\n",
      "/opt/anaconda3/lib/python3.12/site-packages/sklearn/linear_model/_logistic.py:1247: FutureWarning: 'multi_class' was deprecated in version 1.5 and will be removed in 1.7. From then on, it will always use 'multinomial'. Leave it to its default value to avoid this warning.\n",
      "  warnings.warn(\n"
     ]
    },
    {
     "name": "stdout",
     "output_type": "stream",
     "text": [
      "CV Accuracy: 85.22% ± 0.58%\n"
     ]
    }
   ],
   "source": [
    "# 8. Split back into train and test\n",
    "train_processed = full_df[full_df['is_train'] == 1].copy()\n",
    "test_processed = full_df[full_df['is_train'] == 0].copy()\n",
    "\n",
    "# 9. Encode labels\n",
    "label_encoder = LabelEncoder()\n",
    "train_processed['class'] = label_encoder.fit_transform(train_processed['class'])\n",
    "\n",
    "# 10. Define features and labels\n",
    "X = train_processed.drop(columns=['ID', 'class', 'is_train'])\n",
    "y = train_processed['class']\n",
    "X_test = test_processed.drop(columns=['ID', 'class', 'is_train'])\n",
    "\n",
    "# 11. Scale + Polynomial features\n",
    "scaler = StandardScaler()\n",
    "X_scaled = scaler.fit_transform(X)\n",
    "\n",
    "poly = PolynomialFeatures(degree=2, include_bias=False)\n",
    "X_poly = poly.fit_transform(X_scaled)\n",
    "\n",
    "# 12. Cross-validation\n",
    "model = LogisticRegression(multi_class='multinomial', solver='lbfgs', max_iter=300)\n",
    "cv = StratifiedKFold(n_splits=5, shuffle=True, random_state=42)\n",
    "scores = cross_val_score(model, X_poly, y, cv=cv, scoring='accuracy')\n",
    "print(f\"CV Accuracy: {np.mean(scores) * 100:.2f}% ± {np.std(scores) * 100:.2f}%\")"
   ]
  },
  {
   "cell_type": "code",
   "execution_count": 5,
   "id": "335d4daa-0435-4492-b416-54f8ac4fe165",
   "metadata": {},
   "outputs": [
    {
     "name": "stderr",
     "output_type": "stream",
     "text": [
      "/opt/anaconda3/lib/python3.12/site-packages/sklearn/linear_model/_logistic.py:1247: FutureWarning: 'multi_class' was deprecated in version 1.5 and will be removed in 1.7. From then on, it will always use 'multinomial'. Leave it to its default value to avoid this warning.\n",
      "  warnings.warn(\n"
     ]
    },
    {
     "name": "stdout",
     "output_type": "stream",
     "text": [
      "submission.csv generated successfully.\n"
     ]
    }
   ],
   "source": [
    "# 13. Final Training\n",
    "model.fit(X_poly, y)\n",
    "\n",
    "# 14. Predict on test set\n",
    "X_test_scaled = scaler.transform(X_test)\n",
    "X_test_poly = poly.transform(X_test_scaled)\n",
    "y_pred = model.predict(X_test_poly)\n",
    "y_pred_labels = label_encoder.inverse_transform(y_pred)\n",
    "\n",
    "# 15. Submission\n",
    "submission_df = pd.DataFrame({\n",
    "    'ID': test_processed['ID'].astype(int),\n",
    "    'class': y_pred_labels\n",
    "})\n",
    "submission_df.to_csv('submission.csv', index=False)\n",
    "print(\"submission.csv generated successfully.\")"
   ]
  }
 ],
 "metadata": {
  "kernelspec": {
   "display_name": "Python [conda env:base] *",
   "language": "python",
   "name": "conda-base-py"
  },
  "language_info": {
   "codemirror_mode": {
    "name": "ipython",
    "version": 3
   },
   "file_extension": ".py",
   "mimetype": "text/x-python",
   "name": "python",
   "nbconvert_exporter": "python",
   "pygments_lexer": "ipython3",
   "version": "3.12.7"
  }
 },
 "nbformat": 4,
 "nbformat_minor": 5
}
