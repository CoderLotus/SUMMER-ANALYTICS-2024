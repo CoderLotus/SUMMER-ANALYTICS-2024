{
  "cells": [
    {
      "cell_type": "code",
      "execution_count": null,
      "id": "jRgiXe7sSQuV",
      "metadata": {
        "colab": {
          "base_uri": "https://localhost:8080/"
        },
        "id": "jRgiXe7sSQuV",
        "outputId": "e118f9ca-0b94-4df5-b6ba-86a23dd57cbf"
      },
      "outputs": [
        {
          "name": "stderr",
          "output_type": "stream",
          "text": [
            "<ipython-input-8-3091862917>:25: FutureWarning: Support for axis=1 in DataFrame.rolling is deprecated and will be removed in a future version. Use obj.T.rolling(...) instead\n",
            "  full_df[ndvi_columns] = full_df[ndvi_columns].rolling(window=3, axis=1, min_periods=1).mean()\n",
            "/usr/local/lib/python3.11/dist-packages/sklearn/linear_model/_logistic.py:1247: FutureWarning: 'multi_class' was deprecated in version 1.5 and will be removed in 1.7. From then on, it will always use 'multinomial'. Leave it to its default value to avoid this warning.\n",
            "  warnings.warn(\n",
            "/usr/local/lib/python3.11/dist-packages/sklearn/linear_model/_logistic.py:1247: FutureWarning: 'multi_class' was deprecated in version 1.5 and will be removed in 1.7. From then on, it will always use 'multinomial'. Leave it to its default value to avoid this warning.\n",
            "  warnings.warn(\n",
            "/usr/local/lib/python3.11/dist-packages/sklearn/linear_model/_logistic.py:1247: FutureWarning: 'multi_class' was deprecated in version 1.5 and will be removed in 1.7. From then on, it will always use 'multinomial'. Leave it to its default value to avoid this warning.\n",
            "  warnings.warn(\n",
            "/usr/local/lib/python3.11/dist-packages/sklearn/linear_model/_logistic.py:1247: FutureWarning: 'multi_class' was deprecated in version 1.5 and will be removed in 1.7. From then on, it will always use 'multinomial'. Leave it to its default value to avoid this warning.\n",
            "  warnings.warn(\n",
            "/usr/local/lib/python3.11/dist-packages/sklearn/linear_model/_logistic.py:1247: FutureWarning: 'multi_class' was deprecated in version 1.5 and will be removed in 1.7. From then on, it will always use 'multinomial'. Leave it to its default value to avoid this warning.\n",
            "  warnings.warn(\n"
          ]
        },
        {
          "name": "stdout",
          "output_type": "stream",
          "text": [
            "CV Accuracy: 85.17% ± 0.30%\n"
          ]
        },
        {
          "name": "stderr",
          "output_type": "stream",
          "text": [
            "/usr/local/lib/python3.11/dist-packages/sklearn/linear_model/_logistic.py:1247: FutureWarning: 'multi_class' was deprecated in version 1.5 and will be removed in 1.7. From then on, it will always use 'multinomial'. Leave it to its default value to avoid this warning.\n",
            "  warnings.warn(\n"
          ]
        }
      ],
      "source": [
        "# 1. Imports\n",
        "import pandas as pd\n",
        "import numpy as np\n",
        "from sklearn.linear_model import LogisticRegression\n",
        "from sklearn.preprocessing import LabelEncoder, StandardScaler, PolynomialFeatures\n",
        "from sklearn.model_selection import StratifiedKFold, cross_val_score\n",
        "from sklearn.decomposition import PCA\n",
        "\n",
        "# 2. Load data\n",
        "train_df = pd.read_csv(\"hacktrain.csv\")\n",
        "test_df = pd.read_csv(\"hacktest.csv\")\n",
        "\n",
        "# 3. NDVI columns\n",
        "ndvi_columns = [col for col in train_df.columns if col.endswith('_N')]\n",
        "\n",
        "# 4. Combine data\n",
        "train_df['is_train'] = 1\n",
        "test_df['is_train'] = 0\n",
        "test_df['class'] = np.nan\n",
        "full_df = pd.concat([train_df, test_df], ignore_index=True)\n",
        "\n",
        "# *** ADDED: Ensure NDVI columns are numeric ***\n",
        "for col in ndvi_columns:\n",
        "    full_df[col] = pd.to_numeric(full_df[col], errors='coerce')\n",
        "# *********************************************\n",
        "\n",
        "# 5. Interpolation\n",
        "full_df[ndvi_columns] = full_df[ndvi_columns].interpolate(axis=1, limit_direction='both')\n",
        "\n",
        "# 6. Smoothing\n",
        "full_df[ndvi_columns] = full_df[ndvi_columns].rolling(window=3, axis=1, min_periods=1).mean()\n",
        "\n",
        "# 7. Feature Engineering\n",
        "def extract_ndvi_features(row):\n",
        "    # Ensure values is a numeric numpy array before operations\n",
        "    values = pd.to_numeric(row[ndvi_columns], errors='coerce').values\n",
        "    return pd.Series({\n",
        "        'ndvi_mean': np.mean(values),\n",
        "        'ndvi_std': np.std(values),\n",
        "        'ndvi_min': np.min(values),\n",
        "        'ndvi_max': np.max(values),\n",
        "        'ndvi_range': np.max(values) - np.min(values),\n",
        "        'ndvi_q25': np.percentile(values, 25),\n",
        "        'ndvi_q75': np.percentile(values, 75),\n",
        "        'ndvi_median': np.median(values),\n",
        "        'ndvi_trend': values[-1] - values[0] if not np.isnan(values[0]) and not np.isnan(values[-1]) else np.nan, # Add check for nan trend\n",
        "        'ndvi_skew': pd.Series(values).skew(),\n",
        "        'ndvi_kurtosis': pd.Series(values).kurt(),\n",
        "        'ndvi_slope': np.polyfit(np.arange(len(values))[~np.isnan(values)], values[~np.isnan(values)], 1)[0] if np.sum(~np.isnan(values)) > 1 else np.nan\n",
        "    })\n",
        "\n",
        "ndvi_features = full_df.apply(extract_ndvi_features, axis=1)\n",
        "full_df = pd.concat([full_df[['ID', 'class', 'is_train']], ndvi_features], axis=1)\n",
        "\n",
        "# 8. Train/Test Split\n",
        "train_processed = full_df[full_df['is_train'] == 1].copy()\n",
        "test_processed = full_df[full_df['is_train'] == 0].copy()\n",
        "\n",
        "# 9. Encode target\n",
        "label_encoder = LabelEncoder()\n",
        "train_processed['class'] = label_encoder.fit_transform(train_processed['class'])\n",
        "\n",
        "X = train_processed.drop(columns=['ID', 'class', 'is_train'])\n",
        "X = X.fillna(X.mean()) # Impute remaining NaNs after feature creation\n",
        "X_test = test_processed.drop(columns=['ID', 'class', 'is_train'])\n",
        "X_test = X_test.fillna(X_test.mean()) # Impute remaining NaNs after feature creation\n",
        "y = train_processed['class']\n",
        "\n",
        "\n",
        "# 10. Scale features\n",
        "scaler = StandardScaler()\n",
        "X_scaled = scaler.fit_transform(X)\n",
        "X_test_scaled = scaler.transform(X_test)\n",
        "\n",
        "# 11. PCA\n",
        "pca = PCA(n_components=0.99, random_state=42)\n",
        "X_pca = pca.fit_transform(X_scaled)\n",
        "X_test_pca = pca.transform(X_test_scaled)\n",
        "\n",
        "# 12. Polynomial Features\n",
        "poly = PolynomialFeatures(degree=2, include_bias=False)\n",
        "X_poly = poly.fit_transform(X_pca)\n",
        "X_test_poly = poly.transform(X_test_pca)\n",
        "\n",
        "# 13. Cross-Validation\n",
        "cv = StratifiedKFold(n_splits=5, shuffle=True, random_state=42)\n",
        "model = LogisticRegression(multi_class='multinomial', solver='lbfgs', max_iter=500)\n",
        "scores = cross_val_score(model, X_poly, y, cv=cv, scoring='accuracy')\n",
        "print(f\"CV Accuracy: {np.mean(scores):.2f} ± {np.std(scores):.4f}\")\n",
        "\n",
        "# 14. Final Model Training and Prediction\n",
        "model.fit(X_poly, y)\n",
        "y_pred = model.predict(X_test_poly)\n",
        "y_pred_labels = label_encoder.inverse_transform(y_pred)\n",
        "\n",
        "# 15. Submission\n",
        "submission_df = pd.DataFrame({\n",
        "    'ID': test_processed['ID'].astype(int),\n",
        "    'class': y_pred_labels\n",
        "})\n",
        "submission_df.to_csv(\"submission_final_v2.csv\", index=False)"
      ]
    },
    {
      "cell_type": "code",
      "execution_count": null,
      "id": "FBe7f5V1STDI",
      "metadata": {
        "id": "FBe7f5V1STDI"
      },
      "outputs": [],
      "source": []
    }
  ],
  "metadata": {
    "colab": {
      "provenance": []
    },
    "kernelspec": {
      "display_name": "Python [conda env:base] *",
      "language": "python",
      "name": "conda-base-py"
    },
    "language_info": {
      "codemirror_mode": {
        "name": "ipython",
        "version": 3
      },
      "file_extension": ".py",
      "mimetype": "text/x-python",
      "name": "python",
      "nbconvert_exporter": "python",
      "pygments_lexer": "ipython3",
      "version": "3.12.7"
    }
  },
  "nbformat": 4,
  "nbformat_minor": 5
}
